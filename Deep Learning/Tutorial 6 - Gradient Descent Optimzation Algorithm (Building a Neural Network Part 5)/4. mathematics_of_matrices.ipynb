{
 "cells": [
  {
   "cell_type": "markdown",
   "id": "c6be23c5",
   "metadata": {},
   "source": [
    "## Demonstrating how the mathematics of the Matrices look like\n",
    "There are various matrix operations. We will cover how they are done in code.\n",
    "- Element-wise Matrix Addition\n",
    "- Element-wise Matrix Subtraction\n",
    "- Element-wise Matrix Multiplication\n",
    "- Dot-Product\n",
    "- Cross-Product\n",
    "\n",
    "For Neural Network, the matrix operation used is the **Dot-Product**.\n",
    "\n",
    "However, do note that the codes here are all purely for demonstration purposes, for your understanding. It is very unlikely that you will need to implement these matrix operations yourself when building Neural Networks, since DL libraries like PyTorch, TensorFlow and Keras, which you will most likely use when building Neural Networks, has already integrated all these in their ready-made API functions."
   ]
  },
  {
   "cell_type": "markdown",
   "id": "a31ed1ec",
   "metadata": {},
   "source": [
    "### Why this file?\n",
    "To make computation simpler, NN uses matrix operations to simplify and 'summarise' the operations into fewer notation, hence knowledge here will be used in the implementation of Gradient Descent Optimization algorithms for NN."
   ]
  },
  {
   "cell_type": "code",
   "execution_count": 6,
   "id": "1b5cc07c",
   "metadata": {},
   "outputs": [],
   "source": [
    "import numpy as np"
   ]
  },
  {
   "cell_type": "markdown",
   "id": "32e97617",
   "metadata": {},
   "source": [
    "### Element-wise Matrix Addition"
   ]
  },
  {
   "cell_type": "code",
   "execution_count": 10,
   "id": "876dc25e",
   "metadata": {},
   "outputs": [
    {
     "name": "stdout",
     "output_type": "stream",
     "text": [
      "[[260 290 320]\n",
      " [ 34  52  60]\n",
      " [ 20  28  30]]\n"
     ]
    }
   ],
   "source": [
    "# Our sample 2D matrices, implemented with NumPy\n",
    "revenue = np.array([\n",
    "    [180, 200, 220],\n",
    "    [24, 36, 40],\n",
    "    [12, 18, 20]\n",
    "])\n",
    "\n",
    "expenses = np.array([\n",
    "    [80, 90, 100],\n",
    "    [10, 16, 20],\n",
    "    [8, 10, 10]\n",
    "])\n",
    "\n",
    "\n",
    "profit = revenue + expenses\n",
    "print(profit)"
   ]
  },
  {
   "cell_type": "markdown",
   "id": "1ad6504a",
   "metadata": {},
   "source": [
    "### Element-wise Matrix Subtraction"
   ]
  },
  {
   "cell_type": "code",
   "execution_count": 8,
   "id": "576ec16b",
   "metadata": {},
   "outputs": [
    {
     "name": "stdout",
     "output_type": "stream",
     "text": [
      "[[100 110 120]\n",
      " [ 14  20  20]\n",
      " [  4   8  10]]\n"
     ]
    }
   ],
   "source": [
    "# Our sample 2D matrices, implemented with NumPy\n",
    "revenue = np.array([\n",
    "    [180, 200, 220],\n",
    "    [24, 36, 40],\n",
    "    [12, 18, 20]\n",
    "])\n",
    "\n",
    "expenses = np.array([\n",
    "    [80, 90, 100],\n",
    "    [10, 16, 20],\n",
    "    [8, 10, 10]\n",
    "])\n",
    "\n",
    "\n",
    "profit = revenue - expenses\n",
    "print(profit)"
   ]
  },
  {
   "cell_type": "markdown",
   "id": "d9008dd9",
   "metadata": {},
   "source": [
    "### Element-wise Matrix Multiplication"
   ]
  },
  {
   "cell_type": "code",
   "execution_count": 16,
   "id": "a5cfca67",
   "metadata": {},
   "outputs": [
    {
     "name": "stdout",
     "output_type": "stream",
     "text": [
      "[[30000 16000 60000]\n",
      " [ 5000  4000 18000]\n",
      " [ 2000  2000  8400]]\n"
     ]
    }
   ],
   "source": [
    "# Our sample 2D matrices, implemented with NumPy\n",
    "\n",
    "# This is an example of NumPy Broadcasting, which describes how NumPy treats arrays with different shapes during \n",
    "# arithmetic operations. Subject to certain constraints, the smaller array is “broadcast”/expanded across the larger \n",
    "# array so that they have compatible shapes.\n",
    "\n",
    "# i.e. Here, since 'price_per_unit' and 'units' are not same shape, NumPy will expand the smaller array to match the \n",
    "# size of the larger array. So NumPy will do element-wise Matrix Multiplication here as if:\n",
    "    # price_per_unit = np.array([[1000, 400, 1200], [1000, 400, 1200], [1000, 400, 1200]])\n",
    "price_per_unit = np.array([1000, 400, 1200])\n",
    "\n",
    "units = np.array([\n",
    "    [30, 40, 50],\n",
    "    [5,  10, 15],\n",
    "    [2,   5,  7]\n",
    "])\n",
    "\n",
    "print(price_per_unit * units)"
   ]
  },
  {
   "cell_type": "markdown",
   "id": "30eb1d0d",
   "metadata": {},
   "source": [
    "## Dot-Product"
   ]
  },
  {
   "cell_type": "code",
   "execution_count": 22,
   "id": "67c980c1",
   "metadata": {},
   "outputs": [
    {
     "name": "stdout",
     "output_type": "stream",
     "text": [
      "[34400 50000 64400]\n"
     ]
    }
   ],
   "source": [
    "# Our sample 2D matrices, implemented with NumPy\n",
    "price_per_unit = np.array([1000, 400, 1200])\n",
    "\n",
    "units = np.array([\n",
    "    [30, 40, 50],\n",
    "    [5,  10, 15],\n",
    "    [2,   5,  7]\n",
    "])\n",
    "\n",
    "print(np.dot(price_per_unit, units))"
   ]
  },
  {
   "cell_type": "markdown",
   "id": "1d149222",
   "metadata": {},
   "source": [
    "## Cross-Product"
   ]
  },
  {
   "cell_type": "code",
   "execution_count": 19,
   "id": "87322b47",
   "metadata": {},
   "outputs": [
    {
     "name": "stdout",
     "output_type": "stream",
     "text": [
      "[[-28000 -14000  28000]\n",
      " [ -6000  -9000   8000]\n",
      " [ -3200  -4600   4200]]\n"
     ]
    }
   ],
   "source": [
    "# Our sample 2D matrices, implemented with NumPy\n",
    "\n",
    "# This is an example of NumPy Broadcasting, which describes how NumPy treats arrays with different shapes during \n",
    "# arithmetic operations. Subject to certain constraints, the smaller array is “broadcast”/expanded across the larger \n",
    "# array so that they have compatible shapes.\n",
    "\n",
    "# i.e. Here, since 'price_per_unit' and 'units' are not same shape, NumPy will expand the smaller array to match the \n",
    "# size of the larger array. So NumPy will do element-wise Matrix Multiplication here as if:\n",
    "    # price_per_unit = np.array([[1000, 400, 1200], [1000, 400, 1200], [1000, 400, 1200]])\n",
    "price_per_unit = np.array([1000, 400, 1200])\n",
    "\n",
    "units = np.array([\n",
    "    [30, 40, 50],\n",
    "    [5,  10, 15],\n",
    "    [2,   5,  7]\n",
    "])\n",
    "\n",
    "print(np.cross(price_per_unit, units))"
   ]
  },
  {
   "cell_type": "markdown",
   "id": "27b07b44",
   "metadata": {},
   "source": [
    "# Excercises"
   ]
  },
  {
   "cell_type": "markdown",
   "id": "78650b0d",
   "metadata": {},
   "source": [
    "## Excercise 1\n",
    "Below is some indian companies revenues in US dollars. Using numpy can you convert this into Indian rupees? 1 USD = 75 INR\n",
    "| Company             | FY 2018 | FY 2019 | FY 2020 |\n",
    "| ------------------- | ------- | ------- | ------- |\n",
    "| Reliance Industries | 200     | 220     | 250     |\n",
    "| Infosys             | 68      | 79      | 105     |\n",
    "| TCS                 | 110     | 140     | 180     |\n",
    "| Wipro               | 80      | 85      | 90      |\n"
   ]
  },
  {
   "cell_type": "code",
   "execution_count": 26,
   "id": "fdeb4c19",
   "metadata": {},
   "outputs": [
    {
     "name": "stdout",
     "output_type": "stream",
     "text": [
      "[[15000 16500 18750]\n",
      " [ 5100  5925  7875]\n",
      " [ 8250 10500 13500]\n",
      " [ 6000  6375  6750]]\n"
     ]
    }
   ],
   "source": [
    "revenue = np.array([\n",
    "    [200,220,250],\n",
    "    [68,79,105],\n",
    "    [110,140,180],\n",
    "    [80,85,90]\n",
    "])\n",
    "\n",
    "indian_rupees = 75\n",
    "\n",
    "indian_rupees_revenue = revenue * indian_rupees\n",
    "print(indian_rupees_revenue)"
   ]
  },
  {
   "cell_type": "markdown",
   "id": "a63764f1",
   "metadata": {},
   "source": [
    "## Excercise 2\n",
    "Divine flowers is a flower shop that sells different type of flowers. Below is the table showing how many flowers of each type they sold in different months. Also given are the prices of one flower each. Using this find out their total sales in every month.\n",
    "| Flower Type | Jan | Feb | March |\n",
    "| ----------- | --- | --- | ----- |\n",
    "| Roses       | 50  | 60  | 25    |\n",
    "| Lotus       | 10  | 13  | 5     |\n",
    "| Sunflower   | 40  | 70  | 52    |\n",
    "\n",
    "| Flower Type | Price |\n",
    "| ----------- | ----- |\n",
    "| Roses       | 20    |\n",
    "| Lotus       | 30    |\n",
    "| Sunflower   | 15    |\n"
   ]
  },
  {
   "cell_type": "code",
   "execution_count": 34,
   "id": "6d5723ee",
   "metadata": {},
   "outputs": [
    {
     "name": "stdout",
     "output_type": "stream",
     "text": [
      "[1900 2640 1430]\n"
     ]
    }
   ],
   "source": [
    "prices = np.array([\n",
    "    [50,10,40],\n",
    "    [60,13,70],\n",
    "    [25,5,52]\n",
    "])\n",
    "\n",
    "price_each_type = np.array([20,30,15])\n",
    "\n",
    "print(np.dot(prices, price_each_type))\n",
    "\n"
   ]
  }
 ],
 "metadata": {
  "kernelspec": {
   "display_name": "Python 3",
   "language": "python",
   "name": "python3"
  },
  "language_info": {
   "codemirror_mode": {
    "name": "ipython",
    "version": 3
   },
   "file_extension": ".py",
   "mimetype": "text/x-python",
   "name": "python",
   "nbconvert_exporter": "python",
   "pygments_lexer": "ipython3",
   "version": "3.11.2"
  }
 },
 "nbformat": 4,
 "nbformat_minor": 5
}
